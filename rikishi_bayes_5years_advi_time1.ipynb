{
 "cells": [
  {
   "cell_type": "code",
   "execution_count": null,
   "metadata": {},
   "outputs": [],
   "source": [
    "import pandas as pd\n",
    "from pystan import StanModel\n",
    "import pickle\n",
    "from matplotlib.figure import figaspect"
   ]
  },
  {
   "cell_type": "code",
   "execution_count": null,
   "metadata": {},
   "outputs": [],
   "source": [
    "loserwinner = pd.read_csv('output/data_kaimei.csv', index_col=0)"
   ]
  },
  {
   "cell_type": "code",
   "execution_count": null,
   "metadata": {},
   "outputs": [],
   "source": [
    "loserwinner = loserwinner[loserwinner['year'] > 2012]\n",
    "loserwinner = loserwinner.reset_index(drop=True)"
   ]
  },
  {
   "cell_type": "code",
   "execution_count": null,
   "metadata": {},
   "outputs": [],
   "source": [
    "#loserwinner"
   ]
  },
  {
   "cell_type": "code",
   "execution_count": null,
   "metadata": {},
   "outputs": [],
   "source": [
    "len(loserwinner['loser'].unique())"
   ]
  },
  {
   "cell_type": "code",
   "execution_count": null,
   "metadata": {},
   "outputs": [],
   "source": [
    "len(loserwinner['loser'].value_counts()[loserwinner['loser'].value_counts()<5])"
   ]
  },
  {
   "cell_type": "code",
   "execution_count": null,
   "metadata": {},
   "outputs": [],
   "source": [
    "len(loserwinner['winner'].value_counts()[loserwinner['winner'].value_counts()<5])"
   ]
  },
  {
   "cell_type": "code",
   "execution_count": null,
   "metadata": {},
   "outputs": [],
   "source": [
    "rare_rikishies = []\n",
    "rare_rikishies.append(loserwinner['loser'].value_counts()[loserwinner['loser'].value_counts()<5].index)\n",
    "rare_rikishies.append(loserwinner['winner'].value_counts()[loserwinner['winner'].value_counts()<5].index)\n",
    "rare_rikishies = [rare_rikishi for loser_winner in rare_rikishies for rare_rikishi in loser_winner]"
   ]
  },
  {
   "cell_type": "code",
   "execution_count": null,
   "metadata": {},
   "outputs": [],
   "source": [
    "for rare_rikishi in rare_rikishies:\n",
    "    loserwinner = loserwinner[loserwinner['loser'] != rare_rikishi]\n",
    "    loserwinner = loserwinner[loserwinner['winner'] != rare_rikishi]\n",
    "loserwinner = loserwinner.reset_index(drop=True)"
   ]
  },
  {
   "cell_type": "code",
   "execution_count": null,
   "metadata": {},
   "outputs": [],
   "source": [
    "#loserwinner"
   ]
  },
  {
   "cell_type": "code",
   "execution_count": null,
   "metadata": {},
   "outputs": [],
   "source": [
    "len(loserwinner['loser'].unique())"
   ]
  },
  {
   "cell_type": "code",
   "execution_count": null,
   "metadata": {},
   "outputs": [],
   "source": [
    "len(loserwinner['winner'].unique())"
   ]
  },
  {
   "cell_type": "code",
   "execution_count": null,
   "metadata": {},
   "outputs": [],
   "source": [
    "rikishi_id = dict(zip(loserwinner['loser'].unique(), range(1, len(loserwinner['loser'].unique())+1)))"
   ]
  },
  {
   "cell_type": "code",
   "execution_count": null,
   "metadata": {},
   "outputs": [],
   "source": [
    "#rikishi_id"
   ]
  },
  {
   "cell_type": "code",
   "execution_count": null,
   "metadata": {},
   "outputs": [],
   "source": [
    "loserwinner = loserwinner.replace(rikishi_id)"
   ]
  },
  {
   "cell_type": "code",
   "execution_count": null,
   "metadata": {},
   "outputs": [],
   "source": [
    "loserwinner['year'] = loserwinner['year']-2012"
   ]
  },
  {
   "cell_type": "code",
   "execution_count": null,
   "metadata": {},
   "outputs": [],
   "source": [
    "#loserwinner"
   ]
  },
  {
   "cell_type": "code",
   "execution_count": null,
   "metadata": {},
   "outputs": [],
   "source": [
    "loserwinner.info()"
   ]
  },
  {
   "cell_type": "code",
   "execution_count": null,
   "metadata": {},
   "outputs": [],
   "source": [
    "loserwinner['loser'].min()"
   ]
  },
  {
   "cell_type": "code",
   "execution_count": null,
   "metadata": {},
   "outputs": [],
   "source": [
    "loserwinner['loser'].max()"
   ]
  },
  {
   "cell_type": "code",
   "execution_count": null,
   "metadata": {},
   "outputs": [],
   "source": [
    "N = loserwinner['loser'].max()\n",
    "M = loserwinner.shape[0]\n",
    "L = loserwinner['year'].max()\n",
    "Id = list(loserwinner[['loser', 'winner', 'year']].values)\n",
    "\n",
    "data = dict(\n",
    "    N=N,\n",
    "    M=M,\n",
    "    L=L,\n",
    "    Id=Id\n",
    ")"
   ]
  },
  {
   "cell_type": "code",
   "execution_count": null,
   "metadata": {},
   "outputs": [],
   "source": [
    "model = '''\n",
    "data {\n",
    "    int N;\n",
    "    int M;\n",
    "    int L;\n",
    "    int<lower=1, upper=N> Id[M, 3];\n",
    "}\n",
    "\n",
    "parameters {\n",
    "    ordered[2] performance[M];\n",
    "    matrix[L, N-1] strength0;\n",
    "    real<lower=0> s_strength;\n",
    "    real<lower=0> s_time_strength;\n",
    "    vector<lower=0>[N] stability;\n",
    "}\n",
    "\n",
    "transformed parameters {\n",
    "    matrix[L, N] strength;\n",
    "    strength[, 1:N-1] = strength0;\n",
    "    for (i in 1:L)\n",
    "        strength[i, N] = -sum(strength0[i, ]);\n",
    "}\n",
    "\n",
    "model {\n",
    "    strength[1, ] ~ normal(0, s_strength);\n",
    "    for (k in 2:L)\n",
    "        strength[k, ] ~ normal(strength[k-1, ], s_time_strength);\n",
    "    stability ~ gamma(10, 10);\n",
    "    for (i in 1:M)\n",
    "        for (j in 1:2)\n",
    "            performance[i, j] ~ student_t(1, strength[Id[i, 3], Id[i, j]], stability[Id[i, j]]);\n",
    "}\n",
    "'''"
   ]
  },
  {
   "cell_type": "code",
   "execution_count": null,
   "metadata": {},
   "outputs": [],
   "source": [
    "stanmodel = StanModel(model_code=model)"
   ]
  },
  {
   "cell_type": "code",
   "execution_count": null,
   "metadata": {},
   "outputs": [],
   "source": [
    "# ADVI (Automatic Differentiation Variational Inference)\n",
    "fit_vb = stanmodel.vb(data=data, seed=123)\n",
    "#about 30s"
   ]
  },
  {
   "cell_type": "code",
   "execution_count": null,
   "metadata": {},
   "outputs": [],
   "source": [
    "#with open('5years_advi_timex.pkl', 'wb') as f:\n",
    "#    pickle.dump(stanmodel, f)\n",
    "#    pickle.dump(fit_vb, f)"
   ]
  },
  {
   "cell_type": "code",
   "execution_count": null,
   "metadata": {},
   "outputs": [],
   "source": [
    "#fit_vb.keys()"
   ]
  },
  {
   "cell_type": "code",
   "execution_count": null,
   "metadata": {},
   "outputs": [],
   "source": [
    "vb_sample = pd.read_csv(fit_vb['args']['sample_file'].decode('utf-8'), comment='#')\n",
    "vb_sample = vb_sample.drop([0,1])"
   ]
  },
  {
   "cell_type": "code",
   "execution_count": null,
   "metadata": {},
   "outputs": [],
   "source": [
    "np.mean(vb_sample.filter(regex='s_strength'))"
   ]
  },
  {
   "cell_type": "code",
   "execution_count": null,
   "metadata": {},
   "outputs": [],
   "source": [
    "np.mean(vb_sample.filter(regex='s_time_strength'))"
   ]
  },
  {
   "cell_type": "code",
   "execution_count": null,
   "metadata": {},
   "outputs": [],
   "source": [
    "strength = vb_sample.filter(regex='strength\\.\\d+')"
   ]
  },
  {
   "cell_type": "code",
   "execution_count": null,
   "metadata": {},
   "outputs": [],
   "source": [
    "#strength"
   ]
  },
  {
   "cell_type": "code",
   "execution_count": null,
   "metadata": {},
   "outputs": [],
   "source": [
    "strength1 = vb_sample.filter(regex='strength\\.1\\.\\d+')\n",
    "strength2 = vb_sample.filter(regex='strength\\.2\\.\\d+')\n",
    "strength3 = vb_sample.filter(regex='strength\\.3\\.\\d+')\n",
    "strength4 = vb_sample.filter(regex='strength\\.4\\.\\d+')\n",
    "strength5 = vb_sample.filter(regex='strength\\.5\\.\\d+')\n",
    "strength6 = vb_sample.filter(regex='strength\\.6\\.\\d+')"
   ]
  },
  {
   "cell_type": "code",
   "execution_count": null,
   "metadata": {},
   "outputs": [],
   "source": [
    "stability = vb_sample.filter(regex='stability\\.\\d+')"
   ]
  },
  {
   "cell_type": "code",
   "execution_count": null,
   "metadata": {},
   "outputs": [],
   "source": [
    "#strength1"
   ]
  },
  {
   "cell_type": "code",
   "execution_count": null,
   "metadata": {},
   "outputs": [],
   "source": [
    "#stability"
   ]
  },
  {
   "cell_type": "code",
   "execution_count": null,
   "metadata": {},
   "outputs": [],
   "source": [
    "rikishi_df = pd.DataFrame(index=range(1, len(rikishi_id)+1), columns=['strength1', 'strength2', 'strength3', 'strength4', 'strength5', 'strength6'])"
   ]
  },
  {
   "cell_type": "code",
   "execution_count": null,
   "metadata": {},
   "outputs": [],
   "source": [
    "rikishi_df['strength1'] = np.mean(strength1).values\n",
    "rikishi_df['strength2'] = np.mean(strength2).values\n",
    "rikishi_df['strength3'] = np.mean(strength3).values\n",
    "rikishi_df['strength4'] = np.mean(strength4).values\n",
    "rikishi_df['strength5'] = np.mean(strength5).values\n",
    "rikishi_df['strength6'] = np.mean(strength6).values"
   ]
  },
  {
   "cell_type": "code",
   "execution_count": null,
   "metadata": {},
   "outputs": [],
   "source": [
    "rikishi_df['id'] = rikishi_df.index"
   ]
  },
  {
   "cell_type": "code",
   "execution_count": null,
   "metadata": {},
   "outputs": [],
   "source": [
    "rikishi_df = rikishi_df.sort_values(by='strength6', ascending=False)"
   ]
  },
  {
   "cell_type": "code",
   "execution_count": null,
   "metadata": {},
   "outputs": [],
   "source": [
    "rikishi_df['rank'] = range(1, len(rikishi_df)+1)"
   ]
  },
  {
   "cell_type": "code",
   "execution_count": null,
   "metadata": {},
   "outputs": [],
   "source": [
    "rikishi_id_inverse = dict(zip(rikishi_id.values(), rikishi_id.keys()))"
   ]
  },
  {
   "cell_type": "code",
   "execution_count": null,
   "metadata": {},
   "outputs": [],
   "source": [
    "rikishi_df.index = rikishi_df['id'].replace(rikishi_id_inverse).values"
   ]
  },
  {
   "cell_type": "code",
   "execution_count": null,
   "metadata": {},
   "outputs": [],
   "source": [
    "rikishi_df"
   ]
  },
  {
   "cell_type": "code",
   "execution_count": null,
   "metadata": {},
   "outputs": [],
   "source": [
    "rikishi_df.describe()"
   ]
  },
  {
   "cell_type": "code",
   "execution_count": null,
   "metadata": {},
   "outputs": [],
   "source": [
    "strong = pd.DataFrame(data=[rikishi_df['rank'].values, rikishi_df['id'].values, rikishi_df.index.values],\n",
    "#                      index=['rank', 'id', 'name']).T.iloc[:10, :]\n",
    "                      index=['rank', 'id', 'name']).T"
   ]
  },
  {
   "cell_type": "code",
   "execution_count": null,
   "metadata": {},
   "outputs": [],
   "source": [
    "#sns.distplot(rikishi_df['strength1'])"
   ]
  },
  {
   "cell_type": "code",
   "execution_count": null,
   "metadata": {},
   "outputs": [],
   "source": [
    "#sns.distplot(rikishi_df['strength4'])"
   ]
  },
  {
   "cell_type": "code",
   "execution_count": null,
   "metadata": {},
   "outputs": [],
   "source": [
    "#rikishi_df.sort_values(by='strength4', ascending=False).T.iloc[:, :10].plot(figsize=(10, 6))"
   ]
  },
  {
   "cell_type": "code",
   "execution_count": null,
   "metadata": {},
   "outputs": [],
   "source": [
    "#strength"
   ]
  },
  {
   "cell_type": "code",
   "execution_count": null,
   "metadata": {},
   "outputs": [],
   "source": [
    "strong"
   ]
  },
  {
   "cell_type": "code",
   "execution_count": null,
   "metadata": {},
   "outputs": [],
   "source": [
    "probs = (10, 25, 50, 75, 90)\n",
    "cols = ['p{}'.format(p) for p in probs]\n",
    "cols.append('x')"
   ]
  },
  {
   "cell_type": "code",
   "execution_count": null,
   "metadata": {},
   "outputs": [],
   "source": [
    "transitions = pd.Panel(major_axis=range(L), minor_axis=cols)"
   ]
  },
  {
   "cell_type": "code",
   "execution_count": null,
   "metadata": {},
   "outputs": [],
   "source": [
    "for i in range(len(strong)):\n",
    "    id = strong['id'][i]\n",
    "    transition = pd.DataFrame(np.percentile(strength.T[strength.columns.str.endswith(f'.{id}')].T, probs, axis=0)).T\n",
    "    transition.columns = ['p{}'.format(p) for p in probs]\n",
    "    transition['x'] = transition.index + 2013\n",
    "    transitions[i] = transition"
   ]
  },
  {
   "cell_type": "code",
   "execution_count": null,
   "metadata": {},
   "outputs": [],
   "source": [
    "transitions[1]"
   ]
  },
  {
   "cell_type": "code",
   "execution_count": null,
   "metadata": {},
   "outputs": [],
   "source": [
    "plt.figure(figsize=(10, 6))\n",
    "ax = plt.axes()\n",
    "cmap = plt.cm.get_cmap('tab10')\n",
    "\n",
    "for i in range(len(strong)):\n",
    "#for i in range(65, 72):\n",
    "    c = cmap(i%10)\n",
    "    ax.plot('x', 'p50', data=transitions[i], color=c)\n",
    "#    ax.fill_between('x', 'p10', 'p90', data=transitions[i], color=c, alpha=0.1)\n",
    "#    ax.fill_between('x', 'p25', 'p75', data=transitions[i], color=c, alpha=0.2)\n",
    "ax.legend(strong['name'])\n",
    "\n",
    "plt.setp(ax, xlabel='year', ylabel='strength')\n",
    "plt.xticks(range(2013, 2019))\n",
    "plt.show()\n",
    "plt.savefig('5years_advi_time', dpi=200)"
   ]
  },
  {
   "cell_type": "markdown",
   "metadata": {},
   "source": [
    "明生の取り組みが2018年しかなくて、計算で求まる2018のstrengthに無理やり2017から合わせるから、それに合わせてs_strength(s_time_strength)が決まってしまう。"
   ]
  },
  {
   "cell_type": "code",
   "execution_count": null,
   "metadata": {},
   "outputs": [],
   "source": [
    "check = loserwinner.groupby(['loser', 'year']).sum().index.values"
   ]
  },
  {
   "cell_type": "code",
   "execution_count": null,
   "metadata": {},
   "outputs": [],
   "source": [
    "#check"
   ]
  },
  {
   "cell_type": "code",
   "execution_count": null,
   "metadata": {},
   "outputs": [],
   "source": [
    "#check_df = pd.DataFrame(index=range(1, 1+loserwinner['loser'].max()), columns=['1', '2', '3', '4'])\n",
    "check_df = pd.DataFrame(index=range(1, 1+loserwinner['loser'].max()))\n",
    "for i in range(len(check)):\n",
    "    rikishi = check[i][0]\n",
    "    year = check[i][1]-1\n",
    "    check_df.loc[rikishi, year] = True"
   ]
  },
  {
   "cell_type": "code",
   "execution_count": null,
   "metadata": {},
   "outputs": [],
   "source": [
    "check_df"
   ]
  },
  {
   "cell_type": "code",
   "execution_count": null,
   "metadata": {},
   "outputs": [],
   "source": [
    "id_rank = dict(zip(strong['id'], strong['rank']))"
   ]
  },
  {
   "cell_type": "code",
   "execution_count": null,
   "metadata": {},
   "outputs": [],
   "source": [
    "for id in range(1, 1+len(strong)):\n",
    "    rank = id_rank[id]\n",
    "    for j in range(check_df.shape[1]):\n",
    "        if check_df.loc[id, j] != True:\n",
    "            transitions[rank-1].loc[j] = np.nan"
   ]
  },
  {
   "cell_type": "code",
   "execution_count": null,
   "metadata": {},
   "outputs": [],
   "source": [
    "plt.figure(figsize=(10, 6))\n",
    "ax = plt.axes()\n",
    "cmap = plt.cm.get_cmap('tab10')\n",
    "\n",
    "#for i in range(len(strong)):\n",
    "for i in range(10):\n",
    "    c = cmap(i%10)\n",
    "    ax.plot('x', 'p50', data=transitions[i], color=c, marker='o')\n",
    "#    ax.fill_between('x', 'p10', 'p90', data=transitions[i], color=c, alpha=0.1)\n",
    "#    ax.fill_between('x', 'p25', 'p75', data=transitions[i], color=c, alpha=0.2)\n",
    "ax.legend(strong['name'], loc=2)\n",
    "\n",
    "plt.setp(ax, xlabel='year', ylabel='strength')\n",
    "plt.xticks(range(2013, 2019))\n",
    "plt.show()\n",
    "plt.savefig('5years_advi_time', dpi=200)"
   ]
  },
  {
   "cell_type": "code",
   "execution_count": null,
   "metadata": {},
   "outputs": [],
   "source": []
  },
  {
   "cell_type": "code",
   "execution_count": null,
   "metadata": {},
   "outputs": [],
   "source": []
  }
 ],
 "metadata": {
  "kernelspec": {
   "display_name": "Python 3",
   "language": "python",
   "name": "python3"
  },
  "language_info": {
   "codemirror_mode": {
    "name": "ipython",
    "version": 3
   },
   "file_extension": ".py",
   "mimetype": "text/x-python",
   "name": "python",
   "nbconvert_exporter": "python",
   "pygments_lexer": "ipython3",
   "version": "3.6.4"
  }
 },
 "nbformat": 4,
 "nbformat_minor": 2
}
